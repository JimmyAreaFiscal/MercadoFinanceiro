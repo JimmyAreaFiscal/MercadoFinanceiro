{
 "cells": [
  {
   "cell_type": "markdown",
   "metadata": {},
   "source": [
    "---\n",
    "\n",
    "# Livro \"Candlestick - Um método para ampliar lucros na Bolsa de Valores\"\n",
    "\n",
    "---\n",
    "\n",
    "Com o objetivo de aprender sobre os Padrões de Candlestick, este notebook operacionaliza um por um, identificando cada candlestick e gerando um esboço de função para usos futuros. \n",
    "\n",
    "Nos textos a seguir, você encontrará os trechos que julguei mais importante no livro, junto com a respectiva implementação."
   ]
  },
  {
   "cell_type": "markdown",
   "metadata": {},
   "source": [
    "## 1. Configurando o Notebook"
   ]
  },
  {
   "cell_type": "markdown",
   "metadata": {},
   "source": [
    "### 1.1. Obtendo dados"
   ]
  },
  {
   "cell_type": "code",
   "execution_count": null,
   "metadata": {},
   "outputs": [],
   "source": [
    "from backtesting import Cruzamentos\n",
    "from conexao import importar_dados_historicos\n",
    "import vectorbt as vbt \n",
    "\n",
    "\n",
    "import pandas as pd \n",
    "import numpy as np \n",
    "from datetime import datetime, date\n",
    "from dateutil.relativedelta import relativedelta\n",
    "import pytz \n",
    "\n",
    "import MetaTrader5 as mt5\n",
    "import ta\n",
    "import plotly.graph_objects as go\n",
    "import mplfinance as mpf\n",
    "\n",
    "mt5.initialize()\n",
    "\n",
    "timezone = pytz.timezone(\"America/Sao_Paulo\")  \n",
    "tickers = ['WDO$', 'PETR4', 'VALE3', 'ITSA4', 'WIN$', 'ABEV3']\n",
    "\n",
    "\n",
    "for ticker in tickers:\n",
    "    selected = mt5.symbol_select(ticker, True)\n",
    "    if not selected:\n",
    "        print(ticker, \"não localizado\")\n",
    "\n",
    "\n",
    "start = datetime(2022, 1, 1)\n",
    "end = datetime.today()\n",
    "timeframe = mt5.TIMEFRAME_D1\n",
    "dados_gerais = dict()\n",
    "\n",
    "\n",
    "for ticker in tickers:\n",
    "    dados_brutos = importar_dados_historicos(ticker, start, end, timeframe)\n",
    "    dados_gerais[ticker] = dados_brutos \n",
    "\n",
    "dados = dados_gerais[tickers[0]].copy()"
   ]
  },
  {
   "cell_type": "markdown",
   "metadata": {},
   "source": [
    "### 1.2. Criando função para mostrar gráficos dos padrões identificados"
   ]
  },
  {
   "cell_type": "code",
   "execution_count": null,
   "metadata": {},
   "outputs": [],
   "source": [
    "def plotar_candle(df, data_candle, diario=True, qtde_ticks = 6):\n",
    "    \n",
    "    df_figure = df.loc[data_candle-relativedelta(days=qtde_ticks):data_candle+relativedelta(days=qtde_ticks)]\n",
    "    \n",
    "\n",
    "    fig_topos_fundos = go.Figure(data=[go.Candlestick(\n",
    "                                            name='',\n",
    "                                            x=df_figure.index,\n",
    "                                            open=df_figure.open,\n",
    "                                            close=df_figure.close, \n",
    "                                            low=df_figure.low,\n",
    "                                            high=df_figure.high, \n",
    "                                            increasing_line_color='green',\n",
    "                                            decreasing_line_color='red',\n",
    "                                            showlegend=False\n",
    "                                )])\n",
    "    \n",
    "    fig_topos_fundos.add_vrect(\n",
    "        x0=data_candle - pd.Timedelta(hours=12), \n",
    "        x1=data_candle + pd.Timedelta(hours=12),\n",
    "        fillcolor=\"gray\", opacity=0.25, line_width=0\n",
    "    )\n",
    "\n",
    "\n",
    "    if diario:\n",
    "        fig_topos_fundos.update_xaxes(rangebreaks=[dict(bounds=['sat', 'mon'])])\n",
    "\n",
    "    fig_topos_fundos.update_layout(\n",
    "                                xaxis_rangeslider_visible=False,\n",
    "                                title_text=f'<b>Padrão de Candlestick - {df_figure.ticker.iloc[0]} </b>',\n",
    "                                template='none',\n",
    "                                margin=dict(l=75, r=75, t=75, b=75),\n",
    "                                width=800,\n",
    "                                height=600\n",
    "                            )\n",
    "    fig_topos_fundos.show()"
   ]
  },
  {
   "cell_type": "markdown",
   "metadata": {},
   "source": [
    "## 2. Padrões ambivalentes\n",
    "\n",
    "\"Esses padrões têm particularidades que fazem com que tenham significado diferente mesmo dentro de uma mesma tendência, dependendo do ponto em que surgem na sua trajetória.\""
   ]
  },
  {
   "cell_type": "markdown",
   "metadata": {},
   "source": [
    "### 2.1. Marobozu\n",
    "\n",
    "\"[...] nada mais é que um candle com corpo muito longo, com nenhuma sombra ou com sombras bem pequenas, se presentes.\"\n",
    "\n",
    "\"Para eleger um candle como Marobozu, ele deve destoar em tamanho dos demais candles presentes na figura gráfica analisada\".\n",
    "\n",
    "\"A ausência de sombras nas duas extremidades da figura também deve ser considerada como fator de relevância na análise\",\n",
    "\n",
    "\n",
    "\"A frequência com que aparece numa figura gráfica um pouco mais ampla também serve como indicador de relevância: quanto mais rara a aparição dele na figura gráfica total, mais significado tem na análise\".\n",
    "\n",
    "\n",
    "\"Normalmente um Marobozu só é indicador de força no sentido da tendência quando aparece no início dela, nos primeiros pregões. Localizado [...] dez ou doze pregões depois do estabelecimento de uma tendência, um Marobozu a favor dela pode representar, em vez de força, uma exaustão\".\n",
    "\n",
    "\"Uma interpretação importante do Marobozu é a que se faz quando ele aparece em sentido contrário à tendência [...]. A primeira análise é verificar se o Marobozu compõe, com outros candles, alguma figura reversida de maior relevância. Se isso não ocorrer, atentar para aspectos fundamentalistas do papel, como uma redução significativa no critério de distribuição de dividendos [...] ou algum fato relevante capaz de afetar a situação econômica do setor de atividade ou a própria empresa, de maneira a diminuir o interesse do mercado pelo papel.\""
   ]
  },
  {
   "cell_type": "code",
   "execution_count": null,
   "metadata": {},
   "outputs": [],
   "source": [
    "def encontrar_marobozus(dados, sombra_max=0.01):\n",
    "\n",
    "    # Buscando candles com sombras de até 1% do corpo \n",
    "    sombra_max = 0.01\n",
    "    corpo = abs(dados.close - dados.open)\n",
    "    # Independentemente de ser candle de alta ou baixa\n",
    "    sombra_sup = dados.high - dados[['close', 'open']].max(axis=1)\n",
    "    sombra_inf = dados[['close', 'open']].min(axis=1) - dados.low\n",
    "\n",
    "    sinal_candle = (sombra_sup <= sombra_max * corpo) & (sombra_inf <= sombra_max * corpo) \n",
    "\n",
    "    return sinal_candle"
   ]
  },
  {
   "cell_type": "code",
   "execution_count": null,
   "metadata": {},
   "outputs": [],
   "source": [
    "padrao_candle = {}\n",
    "\n",
    "for ticker, df_ohlc in dados_gerais.items():\n",
    "    sinal_candle = encontrar_marobozus(df_ohlc)\n",
    "    if sinal_candle.sum() > 0:\n",
    "        padrao_candle[ticker] = sinal_candle[sinal_candle]\n"
   ]
  },
  {
   "cell_type": "code",
   "execution_count": null,
   "metadata": {},
   "outputs": [],
   "source": [
    "plotar_candle(dados_gerais['VALE3'], data_candle = padrao_candle['VALE3'].index[0], qtde_ticks = 10)"
   ]
  },
  {
   "cell_type": "markdown",
   "metadata": {},
   "source": [
    "### 2.2. Doji\n",
    "\n",
    "\"O que caracteriza um Doji é o fato de os preços de abertura e de fechamento serem idênticos. [...] O resultado é um candle sem corpo definido\"\n",
    "\n",
    "\"Dadas as suas características, o Doji pode apresentar várias configurações com nomes distintos [...]:\n",
    "\n",
    "- Doji Libélula (Dragonfly Doji): Quando os preços de abertura e fechamento coincidem também com a máxima do dia, formando uma figura em formato de T.\n",
    "- Doji Lápide (Gravestone Doji): Quando os preços de abertura e fechamento coincidem também com a mínima do dia.\n",
    "- Doji Pernalta (Long-Legged Doji): Quando a sombra inferior é muito maior que a superior.\n",
    "- Doji Quatro-Preços (Four-Price Doji): Quando os preços de abertura e fechamento coincidem também com a máxima e a mínima do dia, [...]. Este Doji é muito comum em papéis de baixa liquidez, quando ocorre somente um negócio no dia\"\n",
    "\n",
    "\"Para caracterizar um Doji, a figura não depende de seu posicionamento, nem da direção da tendência [...]. Em qualquer momento gráfico, será sempre um Doji e terá um mesmo significado: um mercado indeciso.\"\n",
    "\n",
    "\"[...] a identificação de um mercado indeciso só tem relevância durante o desenvolvimento de tendências. Dessa forma, um Doji que apareça em um mercado lateral (acumulação) ou mesmo numa faixa de negociação estreita não terá grande significado, [...].\n",
    "\n",
    "\"De forma genérica, o Doji representa sempre um sentimento de indecisão no mercado, podendo figurar uma possível reversão [...]. Essa indecisão é tão mais significativa quanto menores forem as sombras do Doji e quanto maiores forem os candles que o antecedem. Por essa razão, ele é visto como um sinal de esgotamento da tendência e de equilíbrio entre as forças de compra e venda.\"\n",
    "\n",
    "\"Um Doji é mais relevante em um topo do que em um fundo [...]\"\n",
    "\n",
    "\"Devemos dar mais atenção ao Doji quando ele surgir em mercados extremamente sobrecomprados ou sobrevendidos [...] principalmente se houver, concomitantemente, outros indicadores de reversão [...]\""
   ]
  },
  {
   "cell_type": "code",
   "execution_count": null,
   "metadata": {},
   "outputs": [],
   "source": [
    "def encontrar_doji(dados, corpo_max=0.01):\n",
    "\n",
    "    # Buscando candles com corpo de até \"corpo_max\" \n",
    "    corpo = abs(dados.close - dados.open)\n",
    "    \n",
    "    sinal_candle = corpo <= corpo_max\n",
    "\n",
    "    return sinal_candle"
   ]
  },
  {
   "cell_type": "code",
   "execution_count": null,
   "metadata": {},
   "outputs": [],
   "source": [
    "padrao_candle = {}\n",
    "\n",
    "for ticker, df_ohlc in dados_gerais.items():\n",
    "    sinal_candle = encontrar_doji(df_ohlc)\n",
    "    if sinal_candle.sum() > 0:\n",
    "        padrao_candle[ticker] = sinal_candle[sinal_candle]\n",
    "padrao_candle"
   ]
  },
  {
   "cell_type": "code",
   "execution_count": null,
   "metadata": {},
   "outputs": [],
   "source": [
    "plotar_candle(dados_gerais['WDO$'], data_candle = padrao_candle['WDO$'].index[0], qtde_ticks = 20)"
   ]
  },
  {
   "cell_type": "markdown",
   "metadata": {},
   "source": [
    "### 2.3. Spinning Top\n",
    "\n",
    "\"[...] candle de pequenas proporções, com um corpo pequeno e duas sombras idênticas, também pequenas [...]\"\n",
    "\n",
    "\"Esse <b>não</b> é um padrão de grande relevância: só tem significado prático quando destoar dos demais candles (anteriores e posteriores) [...]\"\n",
    "\n",
    "\"Assim como o Doji, o Spinning Top representa indecisão no mercado, todavia não com o mesmo grau de intensidade.\""
   ]
  },
  {
   "cell_type": "code",
   "execution_count": null,
   "metadata": {},
   "outputs": [],
   "source": [
    "def encontrar_spinning_top(dados, qtde_candles_proximos = 5, percentual_diff_candles_proximos = 0.3, diff_sombras=0.01, corpo_min = 3):\n",
    "\n",
    "    # Buscando média de corpos\n",
    "    corpo = abs(dados.close - dados.open)\n",
    "    media_corpo = corpo.rolling(qtde_candles_proximos).min().shift(1)\n",
    "\n",
    "    # Buscando candles com corpo pequeno\n",
    "    sinal_corpo_pequeno = (corpo <= media_corpo * percentual_diff_candles_proximos) & (corpo >= corpo_min)\n",
    "\n",
    "    # Filtrando por sombras quase iguais\n",
    "    sombra_sup = dados.high - dados[['close', 'open']].max(axis=1)\n",
    "    sombra_inf = dados[['close', 'open']].min(axis=1) - dados.low\n",
    "\n",
    "    sinal_sombras = abs(sombra_sup - sombra_inf) <= diff_sombras\n",
    "\n",
    "    sinal_candle = sinal_sombras & sinal_corpo_pequeno\n",
    "\n",
    "    return sinal_candle"
   ]
  },
  {
   "cell_type": "code",
   "execution_count": null,
   "metadata": {},
   "outputs": [],
   "source": [
    "padrao_candle = {}\n",
    "\n",
    "for ticker, df_ohlc in dados_gerais.items():\n",
    "    sinal_candle = encontrar_spinning_top(df_ohlc, diff_sombras = 0.1, corpo_min=0.05)\n",
    "    if sinal_candle.sum() > 0:\n",
    "        padrao_candle[ticker] = sinal_candle[sinal_candle]\n",
    "padrao_candle"
   ]
  },
  {
   "cell_type": "code",
   "execution_count": null,
   "metadata": {},
   "outputs": [],
   "source": [
    "plotar_candle(dados_gerais['PETR4'], data_candle = padrao_candle['PETR4'].index[0], qtde_ticks = 10)"
   ]
  },
  {
   "cell_type": "markdown",
   "metadata": {},
   "source": [
    "### 2.4. Estrela\n",
    "\n",
    "\"As Estrelas são figuras singulares, formadas por um candle de pequenas proporções, com um corpo pequeno e sombras muito curtas (quando existem). Exceto pelo tamanho reduzido, não há nenhuma outra característica de formação específica para esse candle, podendo ser um Doji ou um Spinning.\"\n",
    "\n",
    "\"O que o torna uma Estrela é, na verdade, sua posição em relação aos candles anterior e posterior, que também fazem parte do padrão. Deve haver um gap de corpo (não de sombras) entre a Estrela e esses dois candles (anterior e posterior), e esses gaps devem ser em direções opostas, ou seja, <b> o corpo da Estrela não deve \"tocar\" o corpo do candle anterior e nem do candle posterior [...]\"\n",
    "\n",
    "\"[...] Estrelas são válidas como sinal de reversão [...]. Quando aparece em uma tendência de baixa, é chamada Estrela da Manhã [...]; quando aparece em uma tendência de baixa, é chamada Estrela da Tarde [...].\"\n",
    "\n",
    "\"A cor do segundo candle que representa a Estrela não é relevante para o padrão, contudo, para os candles anterior e posterior à Estrela, é necessário que a cor esteja alinhada com a tendência em que estão inseridos [...].\"\n",
    "\n",
    "\"Um fator que agrega credibilidade ao padrão é o grau de penetração do terceiro candle (em sentido contrário) sobre o corpo do primeiro candle [...]\""
   ]
  },
  {
   "cell_type": "code",
   "execution_count": null,
   "metadata": {},
   "outputs": [],
   "source": [
    "def encontrar_estrela(dados, qtde_candles_proximos = 5, percentual_diff_candles_proximos = 0.3):\n",
    "\n",
    "    # Buscando candles com corpo pequeno\n",
    "    candles_total = abs(dados.high - dados.low)\n",
    "    media_candles_total = candles_total.rolling(qtde_candles_proximos).mean().shift(1)\n",
    "    sinal_candle_pequeno = (candles_total <= media_candles_total * percentual_diff_candles_proximos)\n",
    "\n",
    "    # Buscando candles com gap de corpo\n",
    "    gap_baixa = (dados.open < dados[['close', 'open']].min(axis=1).shift(1)) & (dados.close < dados[['close', 'open']].min(axis=1).shift(1))\n",
    "    gap_alta = (dados.open > dados[['close', 'open']].max(axis=1).shift(1)) & (dados.close > dados[['close', 'open']].max(axis=1).shift(1))\n",
    "\n",
    "\n",
    "    # Identificando a tendência\n",
    "    mm_50 = dados.close.rolling(50).mean()\n",
    "    mm_9 = dados.close.ewm(span=9).mean()\n",
    "\n",
    "    tendencia_alta = mm_9 > mm_50\n",
    "    tendencia_baixa = mm_9 < mm_50\n",
    "\n",
    "    candle_alta = dados.close > dados.open \n",
    "    candle_baixa = dados.close < dados.open\n",
    "\n",
    "    # Buscando candles cujo candle anterior tenha gap para seu anterior e para o atual\n",
    "    sinal_gaps_estrela_manha = (gap_baixa.shift(1)) & (gap_alta) & (tendencia_baixa.shift(2) & candle_baixa.shift(2))\n",
    "    sinal_gaps_estrela_tarde = (gap_alta.shift(1)) & (gap_baixa) * (tendencia_alta.shift(2) & candle_alta.shift(2))\n",
    "\n",
    "    sinal_candle = (sinal_gaps_estrela_tarde | sinal_gaps_estrela_manha) & (sinal_candle_pequeno.shift(1))\n",
    "\n",
    "    return sinal_candle"
   ]
  },
  {
   "cell_type": "code",
   "execution_count": null,
   "metadata": {},
   "outputs": [],
   "source": [
    "padrao_candle = {}\n",
    "\n",
    "for ticker, df_ohlc in dados_gerais.items():\n",
    "    sinal_candle = encontrar_estrela(df_ohlc, percentual_diff_candles_proximos=0.4, qtde_candles_proximos=3)\n",
    "    if sinal_candle.sum() > 0:\n",
    "        padrao_candle[ticker] = sinal_candle[sinal_candle]\n",
    "padrao_candle"
   ]
  },
  {
   "cell_type": "code",
   "execution_count": null,
   "metadata": {},
   "outputs": [],
   "source": [
    "plotar_candle(dados_gerais['WIN$'], data_candle = padrao_candle['WIN$'].index[0], qtde_ticks = 50)"
   ]
  },
  {
   "cell_type": "markdown",
   "metadata": {},
   "source": [
    "## 3. Padrões Altistas\n",
    "\n",
    "\"Esses padrões são encontrados após tendências de baixa nos preços: localizam-se principalmente nos fundos dos gráficos e sinalizam ao investidor a possibilidade de reversão dessa tendência, indicando pontos de entrada no papel\""
   ]
  },
  {
   "cell_type": "markdown",
   "metadata": {},
   "source": [
    "### 3.1. Martelo\n",
    "\n",
    "\"O Martelo é uma figura formada por um único candle. [...] se caracteriza por um candle de corpo pequeno com uma longa sombra inferior. A sombra inferior deve ter, no mínimo, duas vezes e meia o tamanho do corpo para ser um Martelo.\"\n",
    "\n",
    "\"Quanto maior a sombra inferior, mais significativo é o sinal\"\n",
    "\n",
    "\"Não deve ter sombra superior ou, se tiver, deve ser bem pequena, insignificante.\"\n",
    "\n",
    "\"Para que a figura seja um Martelo, ela deve surgir depois de uma tendência mais prolongada de baixa ou após uma queda rápida dos preços em apenas alguns pregões. Se essa mesma figura aparecer depois de um movimento de alta ou durante uma acumulação, não é Martelo [...]\"\n",
    "\n",
    "\"Se o tempo de vida de uma tendência for muito curta, o sinal tende a ser menos efetivo, podendo se configurar mais numa correção do que numa reversão\"\n",
    "\n",
    "\"A cor do Martelo não é um fator importante, todavia sempre daremos certa preferência para a figura branca, já que representa uma alta no dia.\"\n",
    "\n",
    "\"Deve haver um acréscimo de volume no dia em que aparece o Martelo, o que fortalece o padrão, dando-lhe mais confiabilidade. Se tal acréscimo de volume não ocorrer no dia, porém no pregão seguinte, e esse dia for um candle de alta, o padrão estará validado.\"\n",
    "\n",
    "\"[...] o Martelo é um ótimo formador de fundos e, geralmente, marca um novo suporte de preços para o papel. Observe se o Martelo ocorre junto a um suporte (um fundo) já formado anteriormente ou próximo a uma Banda de Bollinger. Esses fatores aumentam muito sua confiabilidade\""
   ]
  },
  {
   "cell_type": "code",
   "execution_count": null,
   "metadata": {},
   "outputs": [],
   "source": [
    "def encontrar_martelo(dados, relacao_sombra_corpo=2.5, relacao_sombra_sup_sombra_inf = 0.1, qtde_candle_tendencia = 5):\n",
    "\n",
    "    # Encontrando candles com sombra inferior muito grande\n",
    "    candle_martelo = dados[['close', 'open']].min(axis=1) - dados.low >= relacao_sombra_corpo * abs(dados.close - dados.open)\n",
    "\n",
    "    # Filtrando por candles sem sombra superior (ou sombra insignificante)\n",
    "    sem_sombra_sup = dados.high - dados[['close', 'open']].max(axis=1) <= relacao_sombra_sup_sombra_inf * (dados[['close', 'open']].min(axis=1) - dados.low)\n",
    "\n",
    "    candle_martelo = candle_martelo & sem_sombra_sup\n",
    "\n",
    "    \n",
    "    # Identificando a tendência\n",
    "    mm_50 = dados.close.rolling(50).mean()\n",
    "    mm_9 = dados.close.ewm(span=9).mean()\n",
    "\n",
    "    tendencia_baixa = (mm_9 < mm_50).rolling(qtde_candle_tendencia).mean() == 1\n",
    "\n",
    "\n",
    "    # Confirmando com volume\n",
    "    aumento_volume = dados.real_volume >= dados.real_volume.rolling(qtde_candle_tendencia).max()\n",
    "\n",
    "\n",
    "    sinal_candle = candle_martelo & tendencia_baixa & aumento_volume\n",
    "\n",
    "    return sinal_candle"
   ]
  },
  {
   "cell_type": "code",
   "execution_count": null,
   "metadata": {},
   "outputs": [],
   "source": [
    "padrao_candle = {}\n",
    "\n",
    "for ticker, df_ohlc in dados_gerais.items():\n",
    "    sinal_candle = encontrar_martelo(df_ohlc)\n",
    "    if sinal_candle.sum() > 0:\n",
    "        padrao_candle[ticker] = sinal_candle[sinal_candle]\n",
    "\n",
    "\n",
    "padrao_candle"
   ]
  },
  {
   "cell_type": "code",
   "execution_count": null,
   "metadata": {},
   "outputs": [],
   "source": [
    "plotar_candle(dados_gerais['VALE3'], data_candle = padrao_candle['VALE3'].index[0], qtde_ticks = 60)"
   ]
  },
  {
   "cell_type": "markdown",
   "metadata": {},
   "source": [
    "### 3.2. Martelo Invertido\n",
    "\n",
    "\"Martelo invertido se caracteriza por um candle de corpo pequeno com uma longa sombra superior, semelhante ao Martelo, mas de cabeça para baixo.\"\n",
    "\n",
    "\"A sombra superior <b>deve ser, no mínimo, duas vezes e meia o tamanho do corpo para ser um Martelo Invertido</b>. Não deve ter sombra inferior ou, se tiver, deve ser bem pequena, insignificante.\"\n",
    "\n",
    "\"[...] e,a deve surgir após uma tendência mais prolongada de baixa ou depois de uma queda rápida dos preços em apenas alguns pregões. Se essa mesma figura aparecer depois de um movimento de alta ou durante uma acumulação, não é um Martelo Invertido [...]\"\n",
    "\n",
    "\"Deve haver acréscimo de volume no dia em que aparece o Martelo Invertido, o que fortalece o padrão, dando-lhe mais confiabilidade.\"\n",
    "\n",
    "\"Quanto mais a sombra superior do Martelo Invertido penetrar no corpo do candle do pregão anterior, melhor é o seu posicionamento [...]. Melhor ainda se o fechamento de um Martelo Invertido ficar dentro do corpo do candle de baixa do pregão anterior.\"\n",
    "\n",
    "\"O Martelo Invertido é um padrão de candle de confiabilidade média, sendo necessário esperar um ou dois dias para confirmar sua eficácia. Um bom sinal de que realmente está nascendo uma tendência de alta é o fato de o dia seguinte ser um candle de alta, abrindo ou pelo menos fechando acima do corpo do Martelo Invertido.\""
   ]
  },
  {
   "cell_type": "code",
   "execution_count": null,
   "metadata": {},
   "outputs": [],
   "source": [
    "def encontrar_martelo_invertido(dados, relacao_sombra_corpo=2.5, relacao_sombra_inf_sombra_sup = 0.1, \n",
    "                                qtde_candle_tendencia = 5, perc_confirmacao_tendencia=0.8):\n",
    "\n",
    "    # Encontrando candles com sombra superior muito grande\n",
    "    candle_martelo_invertido = dados.high - dados[['close', 'open']].max(axis=1) >= relacao_sombra_corpo * abs(dados.close - dados.open)\n",
    "\n",
    "    # Filtrando por candles sem sombra inferior (ou sombra insignificante)\n",
    "    sem_sombra_inf = dados[['close', 'open']].min(axis=1) - dados.low <= relacao_sombra_inf_sombra_sup * (dados.high - dados[['close', 'open']].max(axis=1))\n",
    "\n",
    "    candle_martelo_invertido = candle_martelo_invertido & sem_sombra_inf\n",
    "\n",
    "    \n",
    "    # Identificando a tendência\n",
    "    mm_50 = dados.close.rolling(50).mean()\n",
    "    mm_9 = dados.close.ewm(span=9).mean()\n",
    "\n",
    "    tendencia_baixa = (mm_9 < mm_50).rolling(qtde_candle_tendencia).mean() >= perc_confirmacao_tendencia\n",
    "\n",
    "\n",
    "    # Confirmando com volume\n",
    "    aumento_volume = dados.real_volume >= dados.real_volume.rolling(qtde_candle_tendencia).max()\n",
    "\n",
    "\n",
    "    sinal_candle = candle_martelo_invertido & tendencia_baixa & aumento_volume\n",
    "\n",
    "\n",
    "    # Aguardando dois dias para confirmação\n",
    "    confirmacao_candle_posterior = (dados.close > dados[['close', 'open']].max(axis=1).shift(1)) | (dados.open > dados[['close', 'open']].max(axis=1).shift(1))\n",
    "    sinal_candle_confirmado = (sinal_candle.shift(1)) & (confirmacao_candle_posterior)\n",
    "\n",
    "\n",
    "    return sinal_candle_confirmado\n",
    "\n",
    "\n",
    "padrao_candle = {}\n",
    "\n",
    "for ticker, df_ohlc in dados_gerais.items():\n",
    "    sinal_candle = encontrar_martelo_invertido(df_ohlc)\n",
    "    if sinal_candle.sum() > 0:\n",
    "        padrao_candle[ticker] = sinal_candle[sinal_candle]\n",
    "\n",
    "\n",
    "padrao_candle"
   ]
  },
  {
   "cell_type": "code",
   "execution_count": null,
   "metadata": {},
   "outputs": [],
   "source": [
    "plotar_candle(dados_gerais['WIN$'], data_candle = padrao_candle['WIN$'].index[0], qtde_ticks = 100)"
   ]
  },
  {
   "cell_type": "markdown",
   "metadata": {},
   "source": [
    "### 3.3. Engolfo de Alta\n",
    "\n",
    "\"O Engolfo de Alta é uma figura formada por dois candles consecutivos. O primeiro possui um pequeno corpo negro, de baixa, enquanto o segundo possui um corpo bem maior e branco, de alta.\"\n",
    "\n",
    "\"O preço de abertura do segundo candle fica bem abaixo do preço de fechamento do primeiro candle, e o preço de fechamento do segundo candle fica bem acima do preço de abertura do primeiro candle, de forma que o segundo candle engolfa o primeiro num movimento contrário.\"\n",
    "\n",
    "\"O Engolfo de Alta deve aparecer necessariamente depois de uma tendência de baixa ou após uma queda rápida de preços [...]\"\n",
    "\n",
    "\"Os dois candles que compõem o padrão podem ter sombras, mas é preferível que as sombras do primeiro candle - o preto - também fiquem engolfadas pelo corpo do segundo candle. Quanto maior a diferença de tamanho entre os dois candles, melhor.\"\n",
    "\n",
    "\"Deve-se observar o aumento considerável do volume no segundo dia do padrão, o que lhe confere força.\"\n",
    "\n",
    "\"[...] a proximidade de regiões de suporte junto ao \"engolfo\" aumenta a probabilidade da reversão.\""
   ]
  },
  {
   "cell_type": "code",
   "execution_count": null,
   "metadata": {},
   "outputs": [],
   "source": [
    "def encontrar_engolfo_de_alta(dados, relacao_entre_corpos=2.5, perc_bem_distante = 0.1,\n",
    "                                qtde_candle_tendencia = 5, perc_confirmacao_tendencia=0.8):\n",
    "\n",
    "    # Encontrando candles que tenham corpo grande em relação ao anterior\n",
    "    corpo = abs(dados.close - dados.open)  \n",
    "    candle_corpo_grande = corpo >= relacao_entre_corpos * corpo.shift(1)\n",
    "\n",
    "    # Filtrando por candles cujo corpo engolfa o primeiro (com direções opostas - preto x branco ) com distancia min de \"perc_bem_distante\" %\n",
    "    candle_engolfante = (dados.open < (1-perc_bem_distante) * dados.close.shift(1)) & (dados.close > (1+perc_bem_distante) * dados.open.shift(1))\n",
    "\n",
    "    # Primeiro candle (ou seja, candle anterior) deve ser de baixa e o segundo de alta\n",
    "    candle_de_baixa = dados.close < dados.open\n",
    "    candle_de_alta = dados.close > dados.open \n",
    "    \n",
    "    \n",
    "    # Identificando a tendência de alta\n",
    "    mm_50 = dados.close.rolling(50).mean()\n",
    "    mm_9 = dados.close.ewm(span=9).mean()\n",
    "    tendencia_baixa = (mm_9 < mm_50).rolling(qtde_candle_tendencia).mean() >= perc_confirmacao_tendencia\n",
    "\n",
    "\n",
    "    # Confirmando com volume\n",
    "    aumento_volume = dados.real_volume >= dados.real_volume.rolling(qtde_candle_tendencia).max().shift(1)\n",
    "\n",
    "    sinal_padrao = candle_corpo_grande & candle_engolfante & candle_de_baixa.shift(1) & candle_de_alta & tendencia_baixa & aumento_volume\n",
    "\n",
    "    return sinal_padrao\n",
    "\n",
    "\n",
    "padrao_candle = {}\n",
    "\n",
    "for ticker, df_ohlc in dados_gerais.items():\n",
    "    sinal_candle = encontrar_engolfo_de_alta(df_ohlc, relacao_entre_corpos=3, perc_bem_distante=0, perc_confirmacao_tendencia=0.5, qtde_candle_tendencia=1)\n",
    "    if sinal_candle.sum() > 0:\n",
    "        padrao_candle[ticker] = sinal_candle[sinal_candle]\n",
    "\n",
    "\n",
    "padrao_candle"
   ]
  },
  {
   "cell_type": "code",
   "execution_count": null,
   "metadata": {},
   "outputs": [],
   "source": [
    "plotar_candle(dados_gerais['WDO$'], data_candle = padrao_candle['WDO$'].index[2], qtde_ticks = 40)"
   ]
  },
  {
   "cell_type": "markdown",
   "metadata": {},
   "source": [
    "### 3.4. Harami de Fundo (<i>Bullish Harami</i>)\n",
    "\n",
    "\"É formado por dois candles consecutivos e deve sempre aparecer depois de uma tendência prolongada de baixa ou uma queda rápida de preços. <b>O primeiro dia é um longo candle de baixa (preto), e o segundo dia é um pequeno candle de alta (branco) com pouca sombra e, preferivelmente, com as sombras dentro do corpo do candle anterior</b> [...]\"\n",
    "\n",
    "\"É importante que o corpo do segundo candle seja bem menor que o primeiro, algo em torno de um terço do tamanho.\" \n",
    "\n",
    "\"Quando o candle do segundo dia for um Doji [...] teremos um Harami Cruz de Fundo.\"\n",
    "\n",
    "\"[...] não considero o padrão como um Harami se os dois candles não forem de cores diferentes.\"\n",
    "\n",
    "\"Esse padrão demonstra mais a fraqueza da tendência de baixa do que a força da tendência de alta, sendo menos significativo do que um Martelo ou um Engolfo de Alta, por exemplo.\""
   ]
  },
  {
   "cell_type": "code",
   "execution_count": null,
   "metadata": {},
   "outputs": [],
   "source": [
    "def encontrar_harami_fundo(dados, relacao_entre_corpos=3, sombra_dentro_corpo = True, \n",
    "                                qtde_candle_tendencia = 5, perc_confirmacao_tendencia=0.8):\n",
    "\n",
    "    # Encontrando candles que tenham corpo pequeno em relação ao posterior\n",
    "    corpo = abs(dados.close - dados.open)  \n",
    "\n",
    "    candle_corpo_grande = corpo.shift(1) >= relacao_entre_corpos * corpo\n",
    "\n",
    "    # Variável para ser conservador\n",
    "    if sombra_dentro_corpo:\n",
    "        # Sendo conservador na escolha do padrão e usando todo o candle dentro do corpo\n",
    "        candle_dentro_anterior = (dados.low >= dados[['open', 'close']].min(axis=1).shift(1)) & (dados.high <= dados[['open', 'close']].max(axis=1).shift(1))\n",
    "\n",
    "    else:\n",
    "        candle_dentro_anterior = (dados[['open', 'close']].max(axis=1) <= dados[['open', 'close']].max(axis=1).shift(1)) \\\n",
    "                                & (dados[['open', 'close']].min(axis=1) >= dados[['open', 'close']].min(axis=1).shift(1))\n",
    "\n",
    "    # Filtrando por candles que sejam de direções distintas (primeiro deve ser de baixa e o segundo de alta)\n",
    "    dir_candle = (dados.close > dados.open) & (dados.close.shift(1) < dados.open.shift(1))  # Usando sempre o segundo candle como confirmação\n",
    "\n",
    "    \n",
    "    # Identificando a tendência de alta\n",
    "    mm_50 = dados.close.rolling(50).mean()\n",
    "    mm_9 = dados.close.ewm(span=9).mean()\n",
    "    tendencia_baixa = (mm_9 < mm_50).rolling(qtde_candle_tendencia).mean() >= perc_confirmacao_tendencia\n",
    "\n",
    "\n",
    "    sinal_padrao = candle_corpo_grande & candle_dentro_anterior & dir_candle & tendencia_baixa\n",
    "\n",
    "    return sinal_padrao\n",
    "\n",
    "\n",
    "padrao_candle = {}\n",
    "\n",
    "for ticker, df_ohlc in dados_gerais.items():\n",
    "    sinal_candle = encontrar_harami_fundo(df_ohlc, relacao_entre_corpos=2, perc_confirmacao_tendencia=0.8, qtde_candle_tendencia=1)\n",
    "    if sinal_candle.sum() > 0:\n",
    "        padrao_candle[ticker] = sinal_candle[sinal_candle]\n",
    "\n",
    "\n",
    "padrao_candle"
   ]
  },
  {
   "cell_type": "code",
   "execution_count": null,
   "metadata": {},
   "outputs": [],
   "source": [
    "plotar_candle(dados_gerais['WIN$'], data_candle = padrao_candle['WIN$'].index[2], qtde_ticks = 40)"
   ]
  },
  {
   "cell_type": "markdown",
   "metadata": {},
   "source": [
    "Pelo visto, esse padrão realmente só representa uma fraqueza, mas não um ponto de virada propriamente dito. "
   ]
  },
  {
   "cell_type": "markdown",
   "metadata": {},
   "source": [
    "### 3.5. Linha de Perfuração (<i>Piercing Line Pattern</i>)\n",
    "\n",
    "\"É um importante padrão altista, formado por dois candles.\"\n",
    "\n",
    "\"[...] deve aparecer depois de uma tendência de baixa ou movimento rápido de queda.\"\n",
    "\n",
    "\"O primeiro candle é um corpo razoavelmente longo de baixo (preto); o segundo é de alta (branco), com o preço de abertura abaixo da mínima do dia anterior e preço de fechamento que avança sobre o corpo do candle anterior, atingindo mais de 50% de cobertura.\"\n",
    "\n",
    "\"A condição de avanço do segundo dia sobre o primeiro é de vital importância para o padrão, pois, sem cobrir no mínimo 50% do corpo de baixa do dia anterior, o padrão não é uma Linha de Perfuração [...]\"\n",
    "\n",
    "\"Quanto mais baixo o preço de abertura do segundo dia em relação ao anterior, melhor.\"\n",
    "\n",
    "\"Quanto mais o segundo candle avançar sobre o corpo do primeiro dia, mais forte será seu poder de reversão.\""
   ]
  },
  {
   "cell_type": "code",
   "execution_count": null,
   "metadata": {},
   "outputs": [],
   "source": [
    "def encontrar_linha_perfuracao(dados, tamanho_gap = 0.01, percentual_avanco = 0.5, \n",
    "                                qtde_candle_tendencia = 5, perc_confirmacao_tendencia=0.8):\n",
    "\n",
    "    # Primeira condição: 1º candle de baixo e 2º candle de alta\n",
    "    cond_1 = (dados.open.shift(1) > dados.close.shift(1)) & (dados.close > dados.open)\n",
    "\n",
    "    # Segunda condição: preço de abertura do 2º candle abaixo da mínima do candle anterior\n",
    "    cond_2 = dados.open < dados.low.shift(1)\n",
    "\n",
    "    # Terceira condição: preço de fechamento do 2º candle avança 50% do candle anterior \n",
    "    cond_3 = dados.close >= dados[['close', 'open']].mean(axis=1).shift(1)\n",
    "\n",
    "    # Quarta condição: deve aparecer depois de uma tendência de baixa ou movimento rápido de queda\n",
    "    mm_50 = dados.close.rolling(50).mean()\n",
    "    mm_9 = dados.close.ewm(span=9).mean()\n",
    "    cond_4 = (mm_9 < mm_50).rolling(qtde_candle_tendencia).mean() >= perc_confirmacao_tendencia\n",
    "\n",
    "    # Filtro 1: diferença de preços entre a abertura do 2º candle e a mínima do candle anterior (tamanho do gap)\n",
    "    filtro_1 = dados.low.shift(1) - dados.open >= tamanho_gap * abs(dados.close.shift(1) - dados.open.shift(1))\n",
    "\n",
    "    # Filtro 2: valor do avanço do 2º candle sobre o primeiro\n",
    "    filtro_2 = dados.close - dados[['close', 'open']].min(axis=1).shift(1) >= abs(dados.close - dados.open).shift(1) * percentual_avanco\n",
    "\n",
    "\n",
    "\n",
    "    sinal_padrao = cond_1 & cond_2 & cond_3 & cond_4 & filtro_1 & filtro_2\n",
    "\n",
    "    return sinal_padrao\n",
    "\n",
    "\n",
    "padrao_candle = {}\n",
    "\n",
    "for ticker, df_ohlc in dados_gerais.items():\n",
    "    sinal_candle = encontrar_linha_perfuracao(df_ohlc, tamanho_gap=1)\n",
    "    if sinal_candle.sum() > 0:\n",
    "        padrao_candle[ticker] = sinal_candle[sinal_candle]\n",
    "\n",
    "\n",
    "padrao_candle"
   ]
  },
  {
   "cell_type": "code",
   "execution_count": null,
   "metadata": {},
   "outputs": [],
   "source": [
    "plotar_candle(dados_gerais['VALE3'], data_candle = padrao_candle['VALE3'].index[0], qtde_ticks = 40)"
   ]
  },
  {
   "cell_type": "markdown",
   "metadata": {},
   "source": [
    "### 3.6. Pinça (ou Alicate) de Fundo (<i>Tweezer Bottom</i>)\n",
    "\n",
    "\"Esse padrão é formado por dois candles.\"\n",
    "\n",
    "\"Ele deve aparecer após um movimento de baixa.\"\n",
    "\n",
    "\"O primeiro candle possui um corpo mais longo e geralmente acompanha a tendência (corpo negro); o segundo candle pode ter um corpo menor, e sua mínima é igual (ou muito próxima) à mínima do dia anterior; <b>ou seja, eles estão 'alinhados pela mínima'</b>\"\n",
    "\n",
    "\"[...] a cor do segundo candle <b>não</b> é tão importante, nem o seu tamanho.\"\n",
    "\n",
    "\"O ponto forte desse padrão é ter as mínimas alinhadas (ou quase alinhadas), pois esse fato atesta que ele marca um suporte [...]\"\n",
    "\n",
    "\"Não é raro encontrarmos esse padrão acompanhado de um terceiro candle 'batendo' na mesma mínima, o que fortalece ainda mais o suporte gerado.\"\n",
    "\n",
    "\"Se ocorrer uma Pinça acompanhada de um terceiro candel com a mesma mínima, observar dois fatores que podem fortalecer a possibilidade de um futuro movimento de alta:\n",
    "\n",
    "- Se o terceiro candle for negro, repare se seus preço de abertura é superior ao topo do corpo do segundo candle. Quanto mais ultrapassar esse topo, melhor, pois significa que o mercado abriu em 'alto-astral'\n",
    "- Se o terceiro candle for branco, verifique se o preço de fechamento é superior ao topo do corpo do segundo candle. Esse é um sinal ainda melhor, porque, além de 'bater' na mesma mínima, os preços ainda subiram bastante.\"\n",
    "\n",
    "\"[...] quanto menor for a periodicidade do gráfico, menor também será sua confiabilidade.\""
   ]
  },
  {
   "cell_type": "code",
   "execution_count": null,
   "metadata": {},
   "outputs": [],
   "source": [
    "def encontrar_pinca_fundo(dados, max_diferenca_minimos = 0.001, relacao_min_corpo_total_1_candle = 0.5, \n",
    "                          relacao_max_corpo_total_2_candle = 0.25, qtde_candle_tendencia = 5,\n",
    "                        perc_confirmacao_tendencia = 0.8, buscar_reforcado=False, reforco_superior_topo_anterior = 0.1):\n",
    "\n",
    "    # Primeira condição: 2 candles seguidos de mínimas parecidas\n",
    "    cond_1 = abs(dados.low - dados.low.shift(1)) <= max_diferenca_minimos * dados.low.shift(1)  # optou-se por usar percentual para ser mais genérico\n",
    "\n",
    "    # Segunda condição: 1º candle ser negro com corpo longo\n",
    "    cond_2 = (dados.open.shift(1) - dados.close.shift(1)) >= relacao_min_corpo_total_1_candle * (dados.high.shift(1) - dados.low.shift(1))\n",
    "\n",
    "    # Terceira condição: 2º candle  com corpo pequeno (independentemente da cor)\n",
    "    cond_3 = abs(dados.close - dados.open) <= relacao_max_corpo_total_2_candle * (dados.high - dados.low)\n",
    "\n",
    "    # Quarta condição: deve aparecer depois de uma tendência de baixa ou movimento rápido de queda\n",
    "    mm_50 = dados.close.rolling(50).mean()\n",
    "    mm_9 = dados.close.ewm(span=9).mean()\n",
    "    cond_4 = (mm_9 < mm_50).rolling(qtde_candle_tendencia).mean() >= perc_confirmacao_tendencia\n",
    "\n",
    "    # Filtro 1: ser sequencia de 3 candles de mínima \n",
    "    if buscar_reforcado:\n",
    "        filtro_1 = abs(dados.low.shift(1) - dados.low.shift(2)) <= max_diferenca_minimos * dados.low.shift(2)  # optou-se por usar percentual para ser mais genérico\n",
    "    \n",
    "        # Filtro 2: além do filtro 1, deter aos filtros de fortalecimento do terceiro candle\n",
    "        # Utilizou-se um percentual como filtro, a fim de que possa filtrar pela \"potência\" do sinal (maior distancia ao topo anterior) \n",
    "        filtro_2 = dados[['open', 'close']].max(axis=1) - dados[['open', 'close']].max(axis=1).shift(1) >= reforco_superior_topo_anterior * dados[['open', 'close']].max(axis=1).shift(1)\n",
    "\n",
    "   \n",
    "        sinal_padrao = cond_1 & cond_2 & cond_3 & cond_4 & filtro_1 & filtro_2\n",
    "\n",
    "    else:\n",
    "        sinal_padrao = cond_1 & cond_2 & cond_3 & cond_4\n",
    "\n",
    "    return sinal_padrao\n",
    "\n",
    "\n",
    "padrao_candle = {}\n",
    "\n",
    "for ticker, df_ohlc in dados_gerais.items():\n",
    "    sinal_candle = encontrar_pinca_fundo(df_ohlc, max_diferenca_minimos=0.006, \n",
    "                                         relacao_max_corpo_total_2_candle=0.4, \n",
    "                                         buscar_reforcado=False,\n",
    "                                         reforco_superior_topo_anterior=0)\n",
    "    if sinal_candle.sum() > 0:\n",
    "        padrao_candle[ticker] = sinal_candle[sinal_candle]\n",
    "\n",
    "\n",
    "padrao_candle"
   ]
  },
  {
   "cell_type": "code",
   "execution_count": null,
   "metadata": {},
   "outputs": [],
   "source": [
    "plotar_candle(dados_gerais['WDO$'], data_candle = padrao_candle['WDO$'].index[0], qtde_ticks = 100)"
   ]
  },
  {
   "cell_type": "markdown",
   "metadata": {},
   "source": [
    "### 3.7. Chute de Alta (<i>Bullish Kicking</i>)\n",
    "\n",
    "\"Esse padrão é raro e representa uma mudança drástica na postura do mercado em relação ao papel.\"\n",
    "\n",
    "\"Aparece durante um movimento de baixa e é formado por dois candles longos. O primeiro é um candle negro, de baixa, sem sombras (vamos admitir pequenas sombras se forem insignificantes). O segundo é um candle de corpo branco, de alta, sem sombras (também se admitem pequenas sombras, se insignificantes), cujo preço de abertura esteja acima do preço de abertura do candle anterior.\"\n",
    "\n",
    "\"Se os candles tiverem sombras, a sombra superior do primeiro candle (negro) não deve tocar a sombra inferior do segundo candle(branco), configurando o que chamamos de <b>gap completo</b> ou <b>window</b>.\"\n",
    "\n",
    "\"[...] a força dessa reversão será proporcional ao aumento de volume observado no segundo dia do padrão. Quanto maior o volume observado, maior a euforia em que entrou o mercado para o papel.\"\n",
    "\n",
    "\"Pelo fato de o papel ter percorrido um longo caminho entre o fechamento do primeiro e o fechamento do segundo dia, o mercado ficará sujeito a correções, dependendo do grau de otimismo causado pela expectativa criada.\"\n"
   ]
  },
  {
   "cell_type": "code",
   "execution_count": 50,
   "metadata": {},
   "outputs": [
    {
     "data": {
      "text/plain": [
       "{'VALE3': time\n",
       " 2022-04-27    True\n",
       " 2024-04-08    True\n",
       " dtype: bool}"
      ]
     },
     "execution_count": 50,
     "metadata": {},
     "output_type": "execute_result"
    }
   ],
   "source": [
    "def encontrar_chute_alta(dados, max_relacao_sombras_corpo = 0.01, qtde_candle_tendencia = 5,\n",
    "                        perc_confirmacao_tendencia = 0.8, filtro_volume = True, periodo_historico_volume = 10, prop_min_entre_volumes = 1.1):\n",
    "\n",
    "    corpo_candle = abs(dados.close - dados.open)\n",
    "    total_candle = dados.high - dados.low \n",
    "    sombra_sup = dados.high - dados[['close', 'open']].max(axis=1)\n",
    "    sombra_inf = dados[['close', 'open']].min(axis=1) - dados.low\n",
    "    \n",
    "    # Primeira condição: 1º candle negro sem sombra significativa\n",
    "    cond_1 = (dados.close.shift(1) < dados.open.shift(1)) & (sombra_sup.shift(1) < corpo_candle.shift(1) * max_relacao_sombras_corpo) & (sombra_inf.shift(1) < corpo_candle.shift(1) * max_relacao_sombras_corpo)\n",
    "\n",
    "    # Segunda condição: 2º candle ser branco sem sombra significativa\n",
    "    cond_2 = (dados.close > dados.open) & (sombra_sup < corpo_candle * max_relacao_sombras_corpo) & (sombra_inf < corpo_candle * max_relacao_sombras_corpo)\n",
    "\n",
    "    # Terceira condição: 2º candle com com mínimo sem tocar máxima do dia anterior (Gap Completo / Window)\n",
    "    cond_3 = dados.low > dados.high.shift(1)\n",
    "\n",
    "    # Quarta condição: deve aparecer depois de uma tendência de baixa ou movimento rápido de queda\n",
    "    mm_50 = dados.close.rolling(50).mean()\n",
    "    mm_9 = dados.close.ewm(span=9).mean()\n",
    "    cond_4 = (mm_9 < mm_50).rolling(qtde_candle_tendencia).mean() >= perc_confirmacao_tendencia\n",
    "\n",
    "\n",
    "    sinal_padrao = cond_1 & cond_2 & cond_3 & cond_4\n",
    "\n",
    "    # Filtro 1: se volume no 2º candle for maior que média histórica e maior que 1º candle \n",
    "    if filtro_volume:\n",
    "        filtro_1 = (dados.real_volume > dados.real_volume.rolling(periodo_historico_volume).mean()) & (dados.real_volume > dados.real_volume.shift() * prop_min_entre_volumes)\n",
    "        sinal_padrao = sinal_padrao & filtro_1\n",
    "    return sinal_padrao\n",
    "\n",
    "\n",
    "padrao_candle = {}\n",
    "\n",
    "for ticker, df_ohlc in dados_gerais.items():\n",
    "    sinal_candle = encontrar_chute_alta(df_ohlc, \n",
    "                                        max_relacao_sombras_corpo = 0.5, \n",
    "                                        qtde_candle_tendencia = 5,\n",
    "                                        perc_confirmacao_tendencia = 0.8, \n",
    "                                        filtro_volume = False, \n",
    "                                        periodo_historico_volume = 10, \n",
    "                                        prop_min_entre_volumes = 1.1)\n",
    "    if sinal_candle.sum() > 0:\n",
    "        padrao_candle[ticker] = sinal_candle[sinal_candle]\n",
    "\n",
    "\n",
    "padrao_candle"
   ]
  },
  {
   "cell_type": "code",
   "execution_count": null,
   "metadata": {},
   "outputs": [
    {
     "data": {
      "application/vnd.plotly.v1+json": {
       "config": {
        "plotlyServerURL": "https://plot.ly"
       },
       "data": [
        {
         "close": [
          78.04,
          77.37,
          78.48,
          78.26,
          80.17,
          77.86,
          79.04,
          79.51,
          77.89,
          76.95,
          76.43,
          76.46,
          75.38,
          74.14,
          71.77,
          69.91,
          65.86,
          64.73,
          63.85,
          67.26,
          68.93,
          68.18,
          67.88,
          67.53,
          66.97,
          65.76,
          65.29,
          62.61,
          61.84,
          64.42,
          63.77,
          63.69,
          65.6,
          65.32,
          63.67,
          65.36,
          66.52,
          67.88,
          68.79,
          69.01,
          68.97,
          70.17
         ],
         "decreasing": {
          "line": {
           "color": "red"
          }
         },
         "high": [
          78.86,
          78.31,
          79.49,
          79.31,
          80.43,
          80.04,
          79.17,
          79.97,
          79.73,
          77.53,
          78.27,
          77.26,
          76.95,
          75.31,
          73.42,
          70.95,
          68.27,
          65.17,
          64.93,
          67.7,
          70.03,
          71.38,
          68.11,
          68.93,
          67.27,
          68.11,
          66.22,
          63.83,
          62.98,
          65.4,
          63.77,
          64.96,
          66.01,
          67.06,
          64.87,
          65.8,
          67.5,
          68.48,
          68.84,
          69.42,
          69.29,
          70.3
         ],
         "increasing": {
          "line": {
           "color": "green"
          }
         },
         "low": [
          76.63,
          76.46,
          77.99,
          78.06,
          79.04,
          77.62,
          78.04,
          77.88,
          77.46,
          76.06,
          76.33,
          75.97,
          74.79,
          73.68,
          71.09,
          69.09,
          65.55,
          63.47,
          63.73,
          65.61,
          66.17,
          68.18,
          66.01,
          67.28,
          65.36,
          64.73,
          64.06,
          62.28,
          61.29,
          63.13,
          62.11,
          63.69,
          64.28,
          64.55,
          63.38,
          63.42,
          65.96,
          67.35,
          66.31,
          68.28,
          68.03,
          69.33
         ],
         "name": "",
         "open": [
          78.34,
          78.04,
          78.85,
          78.93,
          79.22,
          79.7,
          78.04,
          78.18,
          79.11,
          76.79,
          77.85,
          76.53,
          76.38,
          74.99,
          73.42,
          70.9,
          68.15,
          63.8,
          64.73,
          65.86,
          69.6,
          70.55,
          68.07,
          67.9,
          67.07,
          66.76,
          64.83,
          63.47,
          62.43,
          63.33,
          63.07,
          64.19,
          64.41,
          67,
          64.43,
          63.67,
          67.13,
          67.37,
          66.98,
          68.76,
          68.89,
          69.5
         ],
         "showlegend": false,
         "type": "candlestick",
         "x": [
          "2022-03-28T00:00:00",
          "2022-03-29T00:00:00",
          "2022-03-30T00:00:00",
          "2022-03-31T00:00:00",
          "2022-04-04T00:00:00",
          "2022-04-05T00:00:00",
          "2022-04-06T00:00:00",
          "2022-04-07T00:00:00",
          "2022-04-08T00:00:00",
          "2022-04-11T00:00:00",
          "2022-04-12T00:00:00",
          "2022-04-13T00:00:00",
          "2022-04-14T00:00:00",
          "2022-04-18T00:00:00",
          "2022-04-19T00:00:00",
          "2022-04-20T00:00:00",
          "2022-04-22T00:00:00",
          "2022-04-25T00:00:00",
          "2022-04-26T00:00:00",
          "2022-04-27T00:00:00",
          "2022-04-28T00:00:00",
          "2022-04-29T00:00:00",
          "2022-05-02T00:00:00",
          "2022-05-03T00:00:00",
          "2022-05-04T00:00:00",
          "2022-05-05T00:00:00",
          "2022-05-06T00:00:00",
          "2022-05-09T00:00:00",
          "2022-05-10T00:00:00",
          "2022-05-11T00:00:00",
          "2022-05-12T00:00:00",
          "2022-05-13T00:00:00",
          "2022-05-16T00:00:00",
          "2022-05-17T00:00:00",
          "2022-05-18T00:00:00",
          "2022-05-19T00:00:00",
          "2022-05-20T00:00:00",
          "2022-05-23T00:00:00",
          "2022-05-24T00:00:00",
          "2022-05-25T00:00:00",
          "2022-05-26T00:00:00",
          "2022-05-27T00:00:00"
         ]
        }
       ],
       "layout": {
        "height": 600,
        "margin": {
         "b": 75,
         "l": 75,
         "r": 75,
         "t": 75
        },
        "shapes": [
         {
          "fillcolor": "gray",
          "line": {
           "width": 0
          },
          "opacity": 0.25,
          "type": "rect",
          "x0": "2022-04-26T12:00:00",
          "x1": "2022-04-27T12:00:00",
          "xref": "x",
          "y0": 0,
          "y1": 1,
          "yref": "y domain"
         }
        ],
        "template": {
         "data": {
          "scatter": [
           {
            "type": "scatter"
           }
          ]
         }
        },
        "title": {
         "text": "<b>Padrão de Candlestick - VALE3 </b>"
        },
        "width": 800,
        "xaxis": {
         "rangebreaks": [
          {
           "bounds": [
            "sat",
            "mon"
           ]
          }
         ],
         "rangeslider": {
          "visible": false
         }
        }
       }
      }
     },
     "metadata": {},
     "output_type": "display_data"
    }
   ],
   "source": [
    "plotar_candle(dados_gerais['VALE3'], data_candle = padrao_candle['VALE3'].index[0], qtde_ticks = 30)"
   ]
  },
  {
   "cell_type": "code",
   "execution_count": null,
   "metadata": {},
   "outputs": [
    {
     "data": {
      "application/vnd.plotly.v1+json": {
       "config": {
        "plotlyServerURL": "https://plot.ly"
       },
       "data": [
        {
         "close": [
          78.04,
          77.37,
          78.48,
          78.26,
          80.17,
          77.86,
          79.04,
          79.51,
          77.89,
          76.95,
          76.43,
          76.46,
          75.38,
          74.14,
          71.77,
          69.91,
          65.86,
          64.73,
          63.85,
          67.26,
          68.93,
          68.18,
          67.88,
          67.53,
          66.97,
          65.76,
          65.29,
          62.61,
          61.84,
          64.42,
          63.77,
          63.69,
          65.6,
          65.32,
          63.67,
          65.36,
          66.52,
          67.88,
          68.79,
          69.01,
          68.97,
          70.17
         ],
         "decreasing": {
          "line": {
           "color": "red"
          }
         },
         "high": [
          78.86,
          78.31,
          79.49,
          79.31,
          80.43,
          80.04,
          79.17,
          79.97,
          79.73,
          77.53,
          78.27,
          77.26,
          76.95,
          75.31,
          73.42,
          70.95,
          68.27,
          65.17,
          64.93,
          67.7,
          70.03,
          71.38,
          68.11,
          68.93,
          67.27,
          68.11,
          66.22,
          63.83,
          62.98,
          65.4,
          63.77,
          64.96,
          66.01,
          67.06,
          64.87,
          65.8,
          67.5,
          68.48,
          68.84,
          69.42,
          69.29,
          70.3
         ],
         "increasing": {
          "line": {
           "color": "green"
          }
         },
         "low": [
          76.63,
          76.46,
          77.99,
          78.06,
          79.04,
          77.62,
          78.04,
          77.88,
          77.46,
          76.06,
          76.33,
          75.97,
          74.79,
          73.68,
          71.09,
          69.09,
          65.55,
          63.47,
          63.73,
          65.61,
          66.17,
          68.18,
          66.01,
          67.28,
          65.36,
          64.73,
          64.06,
          62.28,
          61.29,
          63.13,
          62.11,
          63.69,
          64.28,
          64.55,
          63.38,
          63.42,
          65.96,
          67.35,
          66.31,
          68.28,
          68.03,
          69.33
         ],
         "name": "",
         "open": [
          78.34,
          78.04,
          78.85,
          78.93,
          79.22,
          79.7,
          78.04,
          78.18,
          79.11,
          76.79,
          77.85,
          76.53,
          76.38,
          74.99,
          73.42,
          70.9,
          68.15,
          63.8,
          64.73,
          65.86,
          69.6,
          70.55,
          68.07,
          67.9,
          67.07,
          66.76,
          64.83,
          63.47,
          62.43,
          63.33,
          63.07,
          64.19,
          64.41,
          67,
          64.43,
          63.67,
          67.13,
          67.37,
          66.98,
          68.76,
          68.89,
          69.5
         ],
         "showlegend": false,
         "type": "candlestick",
         "x": [
          "2022-03-28T00:00:00",
          "2022-03-29T00:00:00",
          "2022-03-30T00:00:00",
          "2022-03-31T00:00:00",
          "2022-04-04T00:00:00",
          "2022-04-05T00:00:00",
          "2022-04-06T00:00:00",
          "2022-04-07T00:00:00",
          "2022-04-08T00:00:00",
          "2022-04-11T00:00:00",
          "2022-04-12T00:00:00",
          "2022-04-13T00:00:00",
          "2022-04-14T00:00:00",
          "2022-04-18T00:00:00",
          "2022-04-19T00:00:00",
          "2022-04-20T00:00:00",
          "2022-04-22T00:00:00",
          "2022-04-25T00:00:00",
          "2022-04-26T00:00:00",
          "2022-04-27T00:00:00",
          "2022-04-28T00:00:00",
          "2022-04-29T00:00:00",
          "2022-05-02T00:00:00",
          "2022-05-03T00:00:00",
          "2022-05-04T00:00:00",
          "2022-05-05T00:00:00",
          "2022-05-06T00:00:00",
          "2022-05-09T00:00:00",
          "2022-05-10T00:00:00",
          "2022-05-11T00:00:00",
          "2022-05-12T00:00:00",
          "2022-05-13T00:00:00",
          "2022-05-16T00:00:00",
          "2022-05-17T00:00:00",
          "2022-05-18T00:00:00",
          "2022-05-19T00:00:00",
          "2022-05-20T00:00:00",
          "2022-05-23T00:00:00",
          "2022-05-24T00:00:00",
          "2022-05-25T00:00:00",
          "2022-05-26T00:00:00",
          "2022-05-27T00:00:00"
         ]
        }
       ],
       "layout": {
        "height": 600,
        "margin": {
         "b": 75,
         "l": 75,
         "r": 75,
         "t": 75
        },
        "shapes": [
         {
          "fillcolor": "gray",
          "line": {
           "width": 0
          },
          "opacity": 0.25,
          "type": "rect",
          "x0": "2022-04-26T12:00:00",
          "x1": "2022-04-27T12:00:00",
          "xref": "x",
          "y0": 0,
          "y1": 1,
          "yref": "y domain"
         }
        ],
        "template": {
         "data": {
          "scatter": [
           {
            "type": "scatter"
           }
          ]
         }
        },
        "title": {
         "text": "<b>Padrão de Candlestick - VALE3 </b>"
        },
        "width": 800,
        "xaxis": {
         "rangebreaks": [
          {
           "bounds": [
            "sat",
            "mon"
           ]
          }
         ],
         "rangeslider": {
          "visible": false
         }
        }
       }
      }
     },
     "metadata": {},
     "output_type": "display_data"
    }
   ],
   "source": [
    "plotar_candle(dados_gerais['VALE3'], data_candle = padrao_candle['VALE3'].index[0], qtde_ticks = 30)"
   ]
  }
 ],
 "metadata": {
  "kernelspec": {
   "display_name": "Python 3",
   "language": "python",
   "name": "python3"
  },
  "language_info": {
   "codemirror_mode": {
    "name": "ipython",
    "version": 3
   },
   "file_extension": ".py",
   "mimetype": "text/x-python",
   "name": "python",
   "nbconvert_exporter": "python",
   "pygments_lexer": "ipython3",
   "version": "3.10.5"
  }
 },
 "nbformat": 4,
 "nbformat_minor": 2
}
